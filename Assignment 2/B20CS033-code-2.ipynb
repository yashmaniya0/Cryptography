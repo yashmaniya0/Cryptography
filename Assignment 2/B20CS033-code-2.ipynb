{
 "cells": [
  {
   "cell_type": "markdown",
   "metadata": {},
   "source": [
    "**Maniya Yash Rajeshbhai (B20CS033)**\n",
    "\n",
    "# **Cryptography HW2**\n",
    "## **Question 2**\n"
   ]
  },
  {
   "cell_type": "markdown",
   "metadata": {},
   "source": [
    "### Importing Libraries"
   ]
  },
  {
   "cell_type": "code",
   "execution_count": 10,
   "metadata": {},
   "outputs": [],
   "source": [
    "import numpy as np\n",
    "import pandas as pd\n",
    "import matplotlib.pyplot as plt \n",
    "import seaborn\n"
   ]
  },
  {
   "cell_type": "markdown",
   "metadata": {},
   "source": [
    "### Q2 (a)"
   ]
  },
  {
   "cell_type": "code",
   "execution_count": 30,
   "metadata": {},
   "outputs": [
    {
     "name": "stdout",
     "output_type": "stream",
     "text": [
      "Question 2 (a) - DDT : \n",
      "\n",
      "   0  1  2  3  4  5  6  7\n",
      "0  8  0  0  0  0  0  0  0\n",
      "1  0  4  0  4  0  0  0  0\n",
      "2  0  0  0  0  2  2  2  2\n",
      "3  0  0  0  0  2  2  2  2\n",
      "4  0  0  0  0  2  2  2  2\n",
      "5  0  0  0  0  2  2  2  2\n",
      "6  0  4  4  0  0  0  0  0\n",
      "7  0  0  4  4  0  0  0  0\n"
     ]
    },
    {
     "data": {
      "image/png": "[encoded data removed]",
      "text/plain": [
       "<Figure size 432x288 with 2 Axes>"
      ]
     },
     "metadata": {
      "needs_background": "light"
     },
     "output_type": "display_data"
    }
   ],
   "source": [
    "plain_text = '011010'\n",
    "keys = ['010101', '001011', '111000', '111110']\n",
    "sbox = {}\n",
    "\n",
    "def do_xor(a, b):\n",
    "    res = ''\n",
    "    for i in range(len(a)):\n",
    "        if a[i]==b[i]:\n",
    "            res+='0'\n",
    "        else:\n",
    "            res+='1'\n",
    "    return res\n",
    "\n",
    "def get_bin(x, n):\n",
    "    res = bin(x)[2:]\n",
    "    while len(res)<n:\n",
    "        res = '0'+res\n",
    "    return res\n",
    "\n",
    "def create_sbox():\n",
    "    sbox[\"000\"] = \"110\"\n",
    "    sbox[\"001\"] = \"101\"\n",
    "    sbox[\"010\"] = \"001\"\n",
    "    sbox[\"011\"] = \"000\"\n",
    "    sbox[\"100\"] = \"011\"\n",
    "    sbox[\"101\"] = \"010\"\n",
    "    sbox[\"110\"] = \"111\"\n",
    "    sbox[\"111\"] = \"100\"\n",
    "\n",
    "def find_DDT(sbox):\n",
    "    DDT = [[0 for i in range(8)] for j in range(8)]\n",
    "    for i in range(8):\n",
    "        for j in range(8):\n",
    "            delx = i^j\n",
    "            y1 = sbox[get_bin(i, 3)]\n",
    "            y2 = sbox[get_bin(j, 3)]\n",
    "\n",
    "            res = do_xor(y1, y2)\n",
    "            dely = int(res, 2)\n",
    "            DDT[delx][dely]+=1\n",
    "    return DDT\n",
    "\n",
    "def print_DDT(DDT):\n",
    "    print(\"Question 2 (a) - DDT : \\n\")\n",
    "    ddt_df = pd.DataFrame(np.array(DDT))\n",
    "    print(ddt_df)\n",
    "    plt.imshow(DDT, cmap='flare', interpolation='nearest')\n",
    "    plt.colorbar()\n",
    "    plt.show()\n",
    "\n",
    "create_sbox()\n",
    "print_DDT(find_DDT(sbox))\n"
   ]
  },
  {
   "cell_type": "markdown",
   "metadata": {},
   "source": [
    "### Q2 (b)"
   ]
  },
  {
   "cell_type": "code",
   "execution_count": 67,
   "metadata": {},
   "outputs": [
    {
     "name": "stdout",
     "output_type": "stream",
     "text": [
      "Question 2 (b) :\n",
      "\n",
      "Round 1 : Row A : 001111\n",
      "Round 2 : Row B : 101100\n",
      "Round 3 : Row C : 110010\n",
      "Round 4 : Row D : 111001\n",
      "Round 5 : Row E : 100101\n",
      "Round 6 : Row F : 110001\n",
      "Round 7 : Row G : 001001\n",
      "Round 8 : Row H : 101101\n",
      "Round 9 : Row J : 010011\n",
      "\n",
      "Encryption of the Plaintext is : 010011\n"
     ]
    }
   ],
   "source": [
    "def encrypt(plain_text, key, sbox):\n",
    "    print('Question 2 (b) :\\n')\n",
    "    round = 1\n",
    "    row = 'A'\n",
    "    for i in range(4):\n",
    "        plain_text = do_xor(plain_text, key[i])\n",
    "        print(f'Round {round} : Row {row} : {plain_text}')\n",
    "        round+=1\n",
    "        row = chr(ord('A')+round-1)\n",
    "        if row=='I':\n",
    "            row='J'\n",
    "\n",
    "        first = sbox[plain_text[:3]]\n",
    "        second = sbox[plain_text[3:]]\n",
    "        curr = first + second\n",
    "        if round==10:\n",
    "            print(f'\\nEncryption of the Plaintext is : {plain_text}')\n",
    "            break\n",
    "        else:\n",
    "            plain_text = curr\n",
    "            print(f'Round {round} : Row {row} : {plain_text}')\n",
    "        round+=1\n",
    "        row = chr(ord('A')+round-1)\n",
    "        if row=='I':\n",
    "            row='J'\n",
    "\n",
    "        if i<2:\n",
    "            temp = ''\n",
    "            for j in range(3):\n",
    "                temp+=first[j]\n",
    "                temp+=second[j]\n",
    "            plain_text = temp\n",
    "            print(f'Round {round} : Row {row} : {plain_text}')\n",
    "            round+=1\n",
    "            row = chr(ord('A')+round-1)\n",
    "            if row=='I':\n",
    "                row='J'\n",
    "    return plain_text\n",
    "\n",
    "cipher_text = encrypt(plain_text, keys, sbox)\n"
   ]
  },
  {
   "cell_type": "markdown",
   "metadata": {},
   "source": [
    "### Q2 (c)"
   ]
  },
  {
   "cell_type": "code",
   "execution_count": 82,
   "metadata": {},
   "outputs": [
    {
     "name": "stdout",
     "output_type": "stream",
     "text": [
      "\n",
      "Question 2 (c) - Possible δH values :\n",
      "\n",
      "Value  : Frequency\n",
      "\n",
      "000001 : 16\n",
      "010100 : 8\n",
      "010000 : 8\n",
      "000101 : 16\n",
      "010101 : 8\n",
      "010001 : 8\n"
     ]
    }
   ],
   "source": [
    "def solve(plain_text, key, sbox):\n",
    "    for i in range(4):\n",
    "        plain_text = do_xor(plain_text, key[i])\n",
    "        first = sbox[plain_text[:3]]\n",
    "        second = sbox[plain_text[3:]]\n",
    "        curr = first + second\n",
    "\n",
    "        if i<2:\n",
    "            temp = ''\n",
    "            for j in range(3):\n",
    "                temp+=first[j]\n",
    "                temp+=second[j]\n",
    "            plain_text = temp\n",
    "            \n",
    "    return plain_text\n",
    "\n",
    "def gimme_delta_H():\n",
    "    counts = {}\n",
    "    for i in range(64):\n",
    "        for j in range(64):\n",
    "            val = i^j\n",
    "            if val==1:\n",
    "                c1 = solve(get_bin(i, 6), keys, sbox)\n",
    "                c2 = solve(get_bin(j, 6), keys, sbox)\n",
    "                res = do_xor(c1, c2)\n",
    "                # print(i, j, c1, c2, res)\n",
    "                if res not in counts:\n",
    "                    counts[res] = 1\n",
    "                else:\n",
    "                    counts[res] += 1\n",
    "    print('\\nQuestion 2 (c) - Possible δH values :\\n')\n",
    "    print('Value  : Frequency\\n')\n",
    "    for elem in counts:\n",
    "        print(f'{elem} : {counts[elem]}')\n",
    "\n",
    "gimme_delta_H()"
   ]
  },
  {
   "cell_type": "markdown",
   "metadata": {},
   "source": [
    "### Q2 (d)"
   ]
  },
  {
   "cell_type": "code",
   "execution_count": 87,
   "metadata": {},
   "outputs": [
    {
     "name": "stdout",
     "output_type": "stream",
     "text": [
      "\n",
      "Question 2 (d) - Last 3 bits of K4 : \n",
      "\n",
      "Value  : Frequency\n",
      "\n",
      "100000 : 1\n",
      "100001 : 1\n",
      "010111 : 2\n",
      "000011 : 1\n",
      "010010 : 1\n",
      "000010 : 1\n",
      "110101 : 2\n",
      "110000 : 1\n",
      "\n",
      "Hence we suppose K4 must be 010111\n",
      "So, last 3 bits of K4 are : 111\n"
     ]
    }
   ],
   "source": [
    "def find_k4_last3():\n",
    "    target = '011'\n",
    "    count = {}\n",
    "    ciphers = [\"110110\", \"110010\", \"001101\", \"000011\", \"111001\", \"100000\", \"011101\", \"011111\", \"101001\", \"101000\", \"111110\", \"100100\"]\n",
    "    for i in range(8):\n",
    "        for j in range(len(ciphers)):\n",
    "            k = solve(get_bin(i, 6), keys, sbox)\n",
    "            c = solve(get_bin(j, 6), keys, sbox)\n",
    "            res = do_xor(k, c)\n",
    "            comp = sbox[res[3:]]\n",
    "            if comp == target:\n",
    "                if k not in count:\n",
    "                    count[k]=0\n",
    "                count[k]+=1\n",
    "\n",
    "    store = ''\n",
    "    num = 0\n",
    "    for elem in count:\n",
    "        if count[elem]>num:\n",
    "            num = count[elem]\n",
    "            store = elem\n",
    "    print('\\nQuestion 2 (d) - Last 3 bits of K4 : \\n')\n",
    "    print('Value  : Frequency\\n')\n",
    "    for elem in count:\n",
    "        print(f'{elem} : {count[elem]}')\n",
    "    \n",
    "    print(f'\\nHence we suppose K4 must be {store}')\n",
    "    print(f'So, last 3 bits of K4 are : {store[3:]}')\n",
    "\n",
    "find_k4_last3()"
   ]
  },
  {
   "cell_type": "markdown",
   "metadata": {},
   "source": [
    "### Q2 (e)"
   ]
  },
  {
   "cell_type": "code",
   "execution_count": 88,
   "metadata": {},
   "outputs": [],
   "source": [
    "\n",
    "# sorry but giving up "
   ]
  }
 ],
 "metadata": {
  "kernelspec": {
   "display_name": "Python 3.9.1 64-bit",
   "language": "python",
   "name": "python3"
  },
  "language_info": {
   "codemirror_mode": {
    "name": "ipython",
    "version": 3
   },
   "file_extension": ".py",
   "mimetype": "text/x-python",
   "name": "python",
   "nbconvert_exporter": "python",
   "pygments_lexer": "ipython3",
   "version": "3.9.1"
  },
  "orig_nbformat": 4,
  "vscode": {
   "interpreter": {
    "hash": "c3a0e1ed7a67280133f8ade5886c8db9f663bbe0c0db84aba701ac80290ec8d2"
   }
  }
 },
 "nbformat": 4,
 "nbformat_minor": 2
}
