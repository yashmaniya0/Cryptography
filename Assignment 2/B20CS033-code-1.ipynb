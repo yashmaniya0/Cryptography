{
  "cells": [
    {
      "cell_type": "markdown",
      "metadata": {},
      "source": [
        "**Maniya Yash Rajeshbhai (B20CS033)**\n",
        "\n",
        "# **Cryptography HW2**\n",
        "## **Question 1**"
      ]
    },
    {
      "cell_type": "code",
      "execution_count": 1,
      "metadata": {
        "colab": {
          "base_uri": "https://localhost:8080/"
        },
        "id": "GKVcxrlulv4j",
        "outputId": "e1db315c-dbdc-4756-bd0c-d13969128f27"
      },
      "outputs": [
        {
          "name": "stdout",
          "output_type": "stream",
          "text": [
            "Requirement already satisfied: pycryptodome in c:\\users\\yash maniya\\appdata\\local\\programs\\python\\python39\\lib\\site-packages (3.17)\n",
            "Note: you may need to restart the kernel to use updated packages.\n"
          ]
        },
        {
          "name": "stderr",
          "output_type": "stream",
          "text": [
            "WARNING: There was an error checking the latest version of pip.\n"
          ]
        }
      ],
      "source": [
        "%pip install pycryptodome"
      ]
    },
    {
      "cell_type": "markdown",
      "metadata": {
        "id": "YqoqzJvsmMon"
      },
      "source": [
        "### Importing Libraries"
      ]
    },
    {
      "cell_type": "code",
      "execution_count": 2,
      "metadata": {
        "id": "8uRM6aozlp0Z"
      },
      "outputs": [],
      "source": [
        "import sys\n",
        "import os\n",
        "from Crypto.Cipher import AES\n",
        "import base64\n",
        "\n",
        "from Crypto import Random\n"
      ]
    },
    {
      "cell_type": "markdown",
      "metadata": {
        "id": "IwKHiFZLmO_M"
      },
      "source": [
        "### Padding Message"
      ]
    },
    {
      "cell_type": "code",
      "execution_count": 3,
      "metadata": {
        "id": "lY3O_xa-mMBc"
      },
      "outputs": [],
      "source": [
        "Block_Size = 16\n",
        "\n",
        "def pad_message(m):\n",
        "\n",
        "    paddedMessage = m.encode()\n",
        "    length = len(m)\n",
        "\n",
        "    p = 16 - length % 16\n",
        "\n",
        "    pad = p.to_bytes(1, 'big')\n",
        "\n",
        "    paddedMessage += (pad*p)\n",
        "\n",
        "    return paddedMessage\n"
      ]
    },
    {
      "cell_type": "markdown",
      "metadata": {
        "id": "9b_atgxamUwt"
      },
      "source": [
        "### Encrypting Message"
      ]
    },
    {
      "cell_type": "code",
      "execution_count": 4,
      "metadata": {
        "id": "Wmqq-D4gmrEc"
      },
      "outputs": [],
      "source": [
        "global secret_key, IV, encryptor, decryptor\n"
      ]
    },
    {
      "cell_type": "code",
      "execution_count": 5,
      "metadata": {
        "id": "oXK_VNiWpskr"
      },
      "outputs": [],
      "source": [
        "def initialize_encryptor():\n",
        "    global secret_key, IV, encryptor\n",
        "    secret_key = os.urandom(16)\n",
        "    IV = os.urandom(16)\n",
        "    encryptor = AES.new(secret_key, mode=AES.MODE_CBC, IV=IV)\n",
        "\n",
        "def cbc_encrypt(m):\n",
        "    initialize_encryptor()\n",
        "    c = encryptor.encrypt(m)\n",
        "    return c\n",
        "\n"
      ]
    },
    {
      "cell_type": "code",
      "execution_count": 6,
      "metadata": {
        "colab": {
          "base_uri": "https://localhost:8080/"
        },
        "id": "ft9rRi6kqT28",
        "outputId": "95917800-6aed-4099-8cfa-f19ded8bbfee"
      },
      "outputs": [
        {
          "name": "stdout",
          "output_type": "stream",
          "text": [
            "Length of plaintext without padding : 28\n"
          ]
        }
      ],
      "source": [
        "plaintext = \"B20CS033YashRajeshHiralSurat\"\n",
        "print(\"Length of plaintext without padding :\", len(plaintext))\n"
      ]
    },
    {
      "cell_type": "code",
      "execution_count": 7,
      "metadata": {
        "colab": {
          "base_uri": "https://localhost:8080/"
        },
        "id": "g9RFlI8yqklo",
        "outputId": "121a5b70-74a4-4eed-9bb6-32f7cde41011"
      },
      "outputs": [
        {
          "name": "stdout",
          "output_type": "stream",
          "text": [
            "Ciphertext obtained after encryption of plaintext is :  b's\\x06\\xbeg\\\\\\xce\\x82\\x8f\\xdb\\xd8\\xb0\\x10\\x07\\x17\\xbc\\xb9C\\xd5\\x83&D\\x9eI\\xacz;}1>l\\x14\\x02'\n"
          ]
        }
      ],
      "source": [
        "ciphertext = cbc_encrypt(pad_message(plaintext))\n",
        "print(\"Ciphertext obtained after encryption of plaintext is : \", ciphertext)\n"
      ]
    },
    {
      "cell_type": "markdown",
      "metadata": {
        "id": "Mph87k6Nx-Mm"
      },
      "source": [
        "### Decrypting Message using Key"
      ]
    },
    {
      "cell_type": "code",
      "execution_count": 8,
      "metadata": {
        "id": "BhHKL5bJx_u_"
      },
      "outputs": [],
      "source": [
        "def cbc_decryption(ciphertext):\n",
        "    decryptor = AES.new(secret_key, mode=AES.MODE_CBC, IV=IV)\n",
        "    c = ciphertext\n",
        "    return decryptor.decrypt(c)\n"
      ]
    },
    {
      "cell_type": "code",
      "execution_count": 9,
      "metadata": {
        "colab": {
          "base_uri": "https://localhost:8080/"
        },
        "id": "FOab7QSqy4IQ",
        "outputId": "381f5aa3-5a92-4131-fbe5-72b53f5a2de8"
      },
      "outputs": [
        {
          "name": "stdout",
          "output_type": "stream",
          "text": [
            "Decryption of Padded Plaintext with the use of Key :  b'B20CS033YashRajeshHiralSurat\\x04\\x04\\x04\\x04'\n"
          ]
        }
      ],
      "source": [
        "print(\"Decryption of Padded Plaintext with the use of Key : \",\n",
        "      cbc_decryption(ciphertext))\n"
      ]
    },
    {
      "cell_type": "markdown",
      "metadata": {
        "id": "98ZG1os97MCq"
      },
      "source": [
        "### Padding Oracle"
      ]
    },
    {
      "cell_type": "code",
      "execution_count": 10,
      "metadata": {
        "id": "iaP2fZvXMYDW"
      },
      "outputs": [],
      "source": [
        "def isPadded(m):\n",
        "    p = m[-1]\n",
        "    i = len(m)-1\n",
        "    l = len(m)\n",
        "    if(p > 16 or p < 1):\n",
        "        return False\n",
        "    while(i > l-1-p):\n",
        "        if(m[i] != p):\n",
        "            return False\n",
        "        i -= 1\n",
        "    return True\n"
      ]
    },
    {
      "cell_type": "code",
      "execution_count": 11,
      "metadata": {
        "id": "M54QpP4c7Luh"
      },
      "outputs": [],
      "source": [
        "def padding_oracle(iv, c):\n",
        "    decrpytor_iv = AES.new(secret_key, mode=AES.MODE_CBC, IV=iv)\n",
        "    m = decrpytor_iv.decrypt(c)\n",
        "    return isPadded(m)\n"
      ]
    },
    {
      "cell_type": "markdown",
      "metadata": {
        "id": "Z7vTTZDDfZTI"
      },
      "source": [
        "### Padding Attack"
      ]
    },
    {
      "cell_type": "code",
      "execution_count": 12,
      "metadata": {
        "id": "GZFFc5u6ND6r"
      },
      "outputs": [],
      "source": [
        "def padding_attack_block(IV, ciphertext):\n",
        "    iv = bytearray(IV)\n",
        "    c = ciphertext\n",
        "    c0 = bytearray(IV)\n",
        "\n",
        "    cipher_length = len(c)\n",
        "\n",
        "    decrypted_message = bytearray(ciphertext)\n",
        "    padded_bytes = 0\n",
        "\n",
        "    if(padding_oracle(bytes(iv), c) == True):\n",
        "\n",
        "        for i in range(16):\n",
        "            t = iv[i]\n",
        "            iv[i] = (iv[i]+1) % 256\n",
        "            if(padding_oracle(bytes(iv), c) == False):\n",
        "                padded_bytes = cipher_length - i\n",
        "                iv[i] = t\n",
        "                break\n",
        "            iv[i] = t\n",
        "\n",
        "    bits_identified = padded_bytes\n",
        "\n",
        "    for i in range(cipher_length-1-padded_bytes, -1, -1):\n",
        "\n",
        "        bits_identified = (bits_identified+1) % 17\n",
        "\n",
        "        for j in range(cipher_length-1, i, -1):\n",
        "            iv[j] = (iv[j] ^ (bits_identified-1) ^ bits_identified) % 256\n",
        "\n",
        "        padding_oracle(bytes(iv), c)\n",
        "\n",
        "        for j in range(0, 256):\n",
        "            iv[i] = j\n",
        "            if(padding_oracle(bytes(iv), c) == True):\n",
        "                break\n",
        "\n",
        "        decrypted_message[i] = (iv[i] ^ bits_identified ^ c0[i]) % 256\n",
        "\n",
        "    return bytes(decrypted_message)[:16-padded_bytes]\n"
      ]
    },
    {
      "cell_type": "code",
      "execution_count": 13,
      "metadata": {
        "id": "m_TI2lLLkeun"
      },
      "outputs": [],
      "source": [
        "def oracle_attack(IV, ciphertext):\n",
        "    i = 0\n",
        "    plaintext_from_attack = \"\"\n",
        "    previous_c = IV\n",
        "    while(i < len(ciphertext)):\n",
        "        c = ciphertext[i:min(i+16, len(ciphertext))]\n",
        "        plaintext_from_attack += padding_attack_block(previous_c, c).decode()\n",
        "        previous_c = c\n",
        "        i += 16\n",
        "    return plaintext_from_attack\n"
      ]
    },
    {
      "cell_type": "markdown",
      "metadata": {
        "id": "VCs_fwLafcZ2"
      },
      "source": [
        "### Obtaining Plaintext from Attack and Results"
      ]
    },
    {
      "cell_type": "code",
      "execution_count": 14,
      "metadata": {
        "colab": {
          "base_uri": "https://localhost:8080/"
        },
        "id": "RF8xKImZldKE",
        "outputId": "5dc38b99-13fd-422e-8603-72e98d895766"
      },
      "outputs": [
        {
          "name": "stdout",
          "output_type": "stream",
          "text": [
            "Plaintext retrieved from the attack :\t B20CS033YashRajeshHiralSurat\n",
            "Original Plaintext : \t\t\t B20CS033YashRajeshHiralSurat\n",
            "\n",
            "Plaintext retrieved from Attack is same as the original one!!\n"
          ]
        }
      ],
      "source": [
        "plaintext_from_attack = oracle_attack(IV, ciphertext)\n",
        "print(\"Plaintext retrieved from the attack :\\t\", plaintext_from_attack)\n",
        "print(\"Original Plaintext : \\t\\t\\t\", plaintext)\n",
        "\n",
        "if plaintext == plaintext_from_attack:\n",
        "    print(\"\\nPlaintext retrieved from Attack is same as the original one!!\")\n",
        "else:\n",
        "    print(\"Aww Ohh! Plaintexts come out to be different\")\n"
      ]
    }
  ],
  "metadata": {
    "colab": {
      "provenance": []
    },
    "kernelspec": {
      "display_name": "Python 3.9.1 64-bit",
      "language": "python",
      "name": "python3"
    },
    "language_info": {
      "codemirror_mode": {
        "name": "ipython",
        "version": 3
      },
      "file_extension": ".py",
      "mimetype": "text/x-python",
      "name": "python",
      "nbconvert_exporter": "python",
      "pygments_lexer": "ipython3",
      "version": "3.9.1"
    },
    "vscode": {
      "interpreter": {
        "hash": "c3a0e1ed7a67280133f8ade5886c8db9f663bbe0c0db84aba701ac80290ec8d2"
      }
    }
  },
  "nbformat": 4,
  "nbformat_minor": 0
}
