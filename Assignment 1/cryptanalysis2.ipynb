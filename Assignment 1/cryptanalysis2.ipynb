{
 "cells": [
  {
   "cell_type": "markdown",
   "metadata": {},
   "source": [
    "## **Cryptanalysis of Vigenre Cipher**"
   ]
  },
  {
   "cell_type": "code",
   "execution_count": 4,
   "metadata": {},
   "outputs": [],
   "source": [
    "import matplotlib.pyplot as plt\n",
    "import seaborn as sns\n",
    "import pandas as pd"
   ]
  },
  {
   "cell_type": "code",
   "execution_count": 5,
   "metadata": {},
   "outputs": [],
   "source": [
    "def shift_chars(ct, shift):\n",
    "    z = \"\"\n",
    "    for i in range(len(ct)):\n",
    "        if ct[i] in ['\\n', '\\t']:\n",
    "            z += ct[i]\n",
    "            continue\n",
    "        z += chr(ord('a')+(ord(ct[i])+shift-ord('a'))%26)\n",
    "    return z\n",
    "\n",
    "def print_dict(d, sep):\n",
    "    for k in d:\n",
    "        print(k, end=sep)\n",
    "        print(d[k], end=\"\\n\\n\")"
   ]
  },
  {
   "cell_type": "code",
   "execution_count": 6,
   "metadata": {},
   "outputs": [],
   "source": [
    "cipher_text = \"\"\n",
    "cipher_length = 0\n",
    "\n",
    "with open(\"./v_ciphertext_20.txt\", 'r') as f:\n",
    "    cipher_text = f.read()\n",
    "\n",
    "cipher_length = len(cipher_text)"
   ]
  },
  {
   "cell_type": "code",
   "execution_count": 7,
   "metadata": {},
   "outputs": [],
   "source": [
    "dists = []\n",
    "bigrams = {}\n",
    "for i in range(cipher_length-2):\n",
    "    curr = cipher_text[i:i+2]\n",
    "    if curr not in bigrams:\n",
    "        bigrams[curr] = i\n",
    "    else:\n",
    "        dists.append(i-bigrams[curr])\n",
    "\n",
    "dists.sort()"
   ]
  },
  {
   "cell_type": "code",
   "execution_count": 8,
   "metadata": {},
   "outputs": [
    {
     "data": {
      "image/png": "[encoded data removed]",
      "text/plain": [
       "<Figure size 432x288 with 1 Axes>"
      ]
     },
     "metadata": {
      "needs_background": "light"
     },
     "output_type": "display_data"
    }
   ],
   "source": [
    "factors = []\n",
    "freqs = []\n",
    "for x in range(3, 25):\n",
    "    ctr = 0\n",
    "    for i in dists:\n",
    "        if i%x==0:\n",
    "            ctr+=1\n",
    "    factors.append(x)\n",
    "    freqs.append(ctr)\n",
    "\n",
    "plt.plot(factors, freqs)\n",
    "plt.show()"
   ]
  },
  {
   "cell_type": "markdown",
   "metadata": {},
   "source": [
    "From the plot we see that distances of the bigrams are mostly factor of 5 which means key length is 5"
   ]
  },
  {
   "cell_type": "code",
   "execution_count": 9,
   "metadata": {},
   "outputs": [
    {
     "data": {
      "text/plain": [
       "['wxqiizkqebkliluiaqwldbevpxlqvwvlqlbispmievqvnwvlmjmmvwgqebvkiaiuqpiwaoxzumboqcwiemucmpwbtalwmzwmwlimmmlibtttmqsozlioeixktwijbvmuzmqglqqqlaumsitjuamzwwqzzopulamvujwijdmwpjwpsawwumvilimmwqmopitiblgivppcqbqbvamlizzkppmwmmvqabifuctmimabtbmxwzmoxiuontijebmclqbsapgmiivcmvubcvltiqeijqmwbctzmwijimvlinwjvaitbcbqozcmxblzmmtiklmkbplbpmbvsmcpmqqaeittakxlqiiijvpbbblmbkwimptbwqjqmemmznpwzmmikpzulivbacewpwmbxtwtpipvbmnwknmwxkebbivjmclqiuztpqjpaqiqimbcqaavpmbiqbzgzwlcgpwnkbbnmqqepbqsmwqcqpdulvmlewqtvmpuuzxapzppntpvquvlijmmkectmbamwumajwfiijwtlubmgaqmimwsxabqbqmblzmiwtagamzqzzmvqqawmpblmbxspvpiqalpalcibpzmuigpmxcbozlzmejvzzlkmlblibumblizizblbcigupbbuqqqoqiwitjlwxwzcwuoieqkwpsvbieaepbwjmmvaimvbdwpavezecsqytkmslpjmnmbplvctpkbbmeigzxbliaplmsaelqbgvabpbjvlpmjimvptiqmzmwmwziawjmmtclbuimiqzmqspsvmmtlwwmiuckqbtksaepeixbpvlzpijpumtvuimuzqtgaoptmmbmkietjpapmalbbomjjlipjwwwizlmqtuvbpjwimmmobemwbjlaevtqqtipwpwlqcvmuvwtzpmpmwmbwmpcmazvvzmzmawsbbncbctppbgpvwpwpbbwzbezotmtctvguotappgbonibxqdimwlbjuibjmllwvmiemvppvatvloimmvicmzmmkgvbmbjisuxlfvaqqizivqbakmuvpmbdlvddlvtzkmvbwwmvvavbqakzzmziwlmekwlppmgdtzmataiijwziabbzumxvcpkzlatbwvbilommldbmmbqnpkmgxbbapppziivqapazilmwocubwzvimgwvlbxztbbmamuiewimbbmioubjbpjijtvelqvqmbmbjvqblbpvgbpvqiezcwuvpmtzojtvpqrmralwlmpbwpbmwzpjmnmqtpmkpiliukwiqzmqqkzmtzumzwwtvekcclppibobxiwvpubwzmmuilmpmbqpzlzlbinivsmbplaosmvnillmqmvbkipvziownpaqmmmkpalbiimvqvlctbpepabzbbqiiaeepbmzmbwwinmtqmbcmovbbgfgiqxlpbitbeaijvmpmblwbwmlvbwpmbonjvuvxlmpnjmxlqzgnwavexbpimpimbiplbjizqpzldatbcvqpacpzpmmailqptnzbpnvbjtbvvwoiiijmmmmmbvmpiijiivtbmgmvajzunppplmzvwnvvjimlqzmmmpjvmiwlpwliwmwinjkmtiamaaxtbipbijvwtbazbqtxqmuliiazqcbtbpilwvxmmzsqbaswbpewbioatmiatpmuliazplbvmvamecqwmjwqvipmjnqiwoqtiqewezwbvlawqbimjvmplmvablqmasqpxtppmmmmleiepqcuvpkmlzabmtmqircwvdbpczqemxvemabmameabiibdtwmkaewpmmgdin',\n",
       " 'fgevfkangzsstcstltgzwzasmamulgvlfdljsgjjavnsamvulwjjwfstszycogqllwtxwslvkvzzftjdgkthwafzawkjeelwvwlqjjgtzavtadkzvtfwzvwlwzkgzdvlzkghwfvjwsovafgqwllvumftgoakwzvkwsmjwwqjwwjwxohtwfuvsnjjgfvawuaojmleylwufjleyuuujgkwgwlmqsgfszvuwvgkfjoaqsqllzkswqtowauwfjzklykgdssglkylvkwzfkkstvgymkzmzvqgyedsxsllnjxmydkwjjkdgwkkgmomkevvshkskwlzwjjkyjtakkwzscawzcsuldaotywwsmskgzddlaxsefgdjsxvtmwfwvstcwshluxgsfamwjvjzqjdwlswloseggkjdgwuldljjkseuwwmsvswaxjkfizjlswvsqlkltfjlgkatwmljzllsfdzwzdloefulwwsclotsdfvovswlwglwswwldmvegfzjjjygalasafvxsvcsjhldsuqczjktcewklmsjwzugksagwkfkwlexpfdalnutuszdwltvksxaywkllswazdagwwvgagwkjfzavwwuawylsszuazvyckvggdlywmojjltwwgcjklfxflmnwwkxjmvlgslfsdcnswvlfzxgsltslvlslfuzwhwzkasgfqemqgvaswwjalzgzljwwwzjlajgkwzlozglssosafokahawgsvzwjsvsywaokvgvmnostxxjjkwdjggafokgjfswwshfmmmmlhayzwzwcsozwzvwgmvggwdsaafackujwyfwgdaggwjahwkzvsstweutlzsxwmehwdmltywalfvglgwdqfoqylzgskztaowvwdfvuahsxxktlswltwkstsfnczewsflmgyvegwgekazqalzddwszzgldalwaztksskldgdlmvywgvlawlzsqcgddwfjxkztelztssxqzsfolvgwwwdvqsajjqcjsqejzgllvztkqmzsulwjglwvlkkkgvsxmvwwjvwwjvnwgjuzleqvvwxgthwgzvlydmfsjfgwmvlwwlocsefogwldzazssjakkwcwuglzgljlgzovswsntlyswjkkwzjoowlefzcfswlgllsxslszjyyxdgdlgzjdyzqdyvwfwehdwzsjegztgwwdssvaepzfwhsjszvzwoalssaasjsljxwywjqlztwvgvsdsxoadvlzfwhvmkwwlgulswqzwustksmlvqkedzwvwsmsceosowsykxwlktsgstzgswggedvwfzfsusfwlssezvlflluqwzylwlgljtsvfbwaljalwlfdjwsdjahwwwkefdjlllqvqzlgsazukgxkkzfzwwdgxbzjynywlfqlvssawbslefhtwgkwzzzyslcwlalfksujvwnwlssmgyglgajwswlgldwgltslswlgffaujllwwztfjfwllwalslzkwzfajsjgekzxwvsflwsaztwgawjefldsjfansgcfwadsjeyxzugfydmwtlggwejavnvwvskzffwsdjwwvnvnxauoyjfznxwzvgfyvwswdljwsdsogcgggwkqofewldjwlujzdeskqewwjswwtggzuggzjaomzlzuxawjtljwswwzvgvsjalfjoslltlwvskyfjmxaatzxsnjalaoxdzljgwjlkdakgvfllffwwdwwgjjuazugsdkglswkldlzvacflgdflwzwdjtsgwdzowglmeawxfjzwvfeolghwgxlwcu',\n",
       " 'whycncnyvyffuufuyflyxbzgnwjebxmbvybemqbczbyvhmmumwcnpymumymmigzbsuubgfimwnynnfmciwfuuxayuwvyyybnylbqimoiuwnslflvmuavuylfucniyizbiioflunflacfhzqbhlimehhsqcmmhiiyuvfxfbyullxluoyynnyylyimjmlhcevuogbumuwbbybiufiunvpmcwbnwajalyyfxfmuxioammfibiufxnfcuvfxnyunbabzclqzbxbniyvynnnfunlunnynyxnwuicffhybyibfyunmyyipfwpqhxcvuymylfuluuiyjscnuyvmcvzumceuyyaimbxyyqrghhnczoxnigceymxfehczufmxubfuyxhnbelzmxzhgxbcuvyclbjxbyluclyjyowibfiimymziuqmnuvhgyxmaoycslxynqiowynyilbwlxwuiyibmauyayvbuyaeuwlhhbiymxuwbcnzbniijhlxibmeqmiiyibicnnhvnuuzlnuvufcccynucunoynjyilmixyefqvnlxynunooincfwbylfbcczqiocfqihinoqclhgcyhohunohhzniwywmhxunubbgmuihyfmuafbqfbmmzcyynynufuyybeyabfyubibymycefcxmfcynyqixyuopbvhoqbqnnyyqysycnqlfeqcxpufhllyybyjfiuzjmyubfhnhlybucobxmcchzinhyiluvnclbhamzfvugbgbfyyfuibimuxyinohbnblymmvxhnbwjalinhqbxymvmcymubhbmxzeucumfnpujyynuupoulbhhphucmiuvnlluiyiyciclobwyfbziqbixslcfwyinbiibyhhmyfxifqxfxyemqvainfbhqbvuunixlyhuyfxxllpluylxzyhhyuhqyxvyhyufbymuqhyvgjmnimhubwnuuzzchviyciynufsivauyyyyyylhincleuinobpyvzicxiniynhnyqqouoiyyfzmuhymiyhmbwyznionbchuhbyyhbynynvqbybbyzbflzuunvuibixhxlinihluibubmzhinuohbuywyhlmwuykfqlhbylbyxzncvlxeyobbflinnxyubulxinuhaplygbbxnhbhyxcbuyomsucisiygzoulnhobcxyihihyfillcmwnwuycxrfhywcyylimiwhlhhmzbxnmylynsnyzyhclulccfiqbynwovlyllilcqnhlyjyfuyunwuiuugujnuhmnyicnyuhcuihjyyvbfuuqnuvlfwnlncuxuenwszayyybxviiumyiimbhbmygxaishbhmiuuuyidhfshuubbfincybwioxmimopjybimcunyvyfxcgcuyllilxniynghbfpuwbyayofhzxicyawichbjbncbuibxyzbedfcilconnullbobiphbvhbsxbfxmxiufyflyyxcnwsinaiwqyyfyxminszyxicwhnqlbfhyyxnarhiniciunfyvnsirgcsyualcioiyunyybofxyyyyyumuvmyianlyillbylylmeuylayybuubixobfwnybegvcmbefbillmwcpymbmjfbuxynyhmiywnsjgxubhcinoyahnyymcyuuhyybjfhflyqhngmnmaxywbwoyuuvbbwnysexuyzmyahyhczmyinoclbbxzbjuabncnwnyumzimlecyopfulcxgubcuobnhabsxniuusxsumhlyinwzllumiismyluyuiboywzibmqh',\n",
       " 'lhpzwhfkyysphzpdyfhsdplborzzlzvlbzllplhjllkpllvyohjolkhinyapvlyloyuvlsdohotiylaukylauhzmnvlauklobualiuibavlalvvlhkbbapmfytoafhylyizblyoldyjvnvlpovdhfalapkhbsbwzshksppzavzzvjuujoyalraialphnyzhzjipgpuylplvctlbooivluhlahhlotsyhsfltajuooalulyushypayhpkolkollvomkhdlvllwzbthvppzokpapzltloruciphkylpupnffwvhwmlkphlzkaiuyktchuwswnyvarpayllulouzulmwkvpylpqypjlkuanzudoszsljufluksvnslojvpskvkplzvoallaollbulaudhwilyauuawlauhblytaohrvyzllzshrzoaallyvdvdyahtyhjomvhlrbhoyzitlbwuuvwhlzazazsdovlbphjnvlkjyloymvkbvalihhafdtahsuolnvowuojvshuhviuuvzzuvakvpjmzptixskpvhkayzklysytuiohylfokthliaklpyrmyyhsrrhzazaojouikvoultdhaacoallttzbazlizylpumldvmahaojvcpzhkhplalkacptpjiuaovtozwuyawohvuaslllkyolaoyajhuykkoukbhhjpluskvzzyhfwtmuaphluhshovvlhptallpmacvkokyuhshvtlbkvrvwhzhlplkycpdupavkhhkoudlvvatvpyvkalrlohdoholatibpmuhahlliphlyiumfalzhaotuhlucshnhhasaoashovzpbwnyuyupzhvyklvvhhimvnukvybzlbplyafpjloyshzimkazphvyyllaollkdakilklavzmalllfskkvoulajukojdfyjzkllviulajsboipavliprocinvanvnyubtojnvahvpyyksyysjyozaozmozhlusvbuaiobfpkvtohdzybyybvaolslmjdtlvkvlouohckumbksmbkdooiyljmpzvpmvhisoiuclmhzylzoyoydnpklklkypzaaljulznrbpykbfyvhlyzllluajhyalualaslzovppjpzpvypkvsltykhllonpazmcpshmjvuuwpajfkpzjoazhnhpmpyljlrvaiwlorukzahhklrzvvlvtihkalauallozylvolyyahluazdsahhplyvhsfozvzmaahlalkhhpostdhmbpulusokkatayalyyfciypskpslpdkupuldfvojhzuaylvvhavhsyldhabyhdptbhllolhbabimlltikzshthklvaszvvlypukloawloboslvthplazfybupakayyyvbpvppualvahflyalaouahlpdpjklraazlwllubbulpyplpbvspnuyvokvzlylcllllkpdvllaopyslylvyyolvvhnouhroykpmaaylvoulylvvoohhsayypooapypsimkbsysovbjlivhgpvzuhsychtypzkluikyyyzshboatvahmvivylyvzhzyllzkpyuprkppmhzylllpizvhupusapospohlllslultoyavbmhzjshhiphttozuhhozmbzdtyztyllsklvillolvohhzurloayzshlalozvlhiulzkhhykycaimhyuphlhllwuzyomvhzyyvaizpuzosllsnuvvclcinlavapdzbsuadthiaszmroyallklmyfiuauanyhsuhayppc',\n",
       " 'utntenltosebnibarpniisideetiwalmnamtmvdhalighalpemharalaaiindwoceddrnoairaieofeghadrdmtoenfhattrnehrbottaulhvouanlatmtectweyudoisvlndaeaaikomldsedarmaahnerdyteaichyesftbwtcegtoeaopchbrddgtsabskbsigdodswuiuhleeeictvnhminiseeiocsehkgtuhatisdowenhabmoehjabscielrhwimreatoiolbaesnhmhdsnebteatreecntsievifsosrposasehidaisetdeleetvsechrdydlidhgaaiulnesnaitinsehhutehdelsoowvohlustcehmbotoeesiniodcterrmtfeghdeureoyshoootnnmuyhonhrnultaiwawehrrscsauowhneenoeapnqlstoasoomradstacrshtoteoawrltgooirtooyeetossferassaedyhvdsolmuepdehaifennantlisgrahktrcemiuuyhfunehvtdndenogeenidretssnehnentiteeslwanmrewehetetreodaoneheaiaceuhloabuiedsfobesehsheaoyfilwsnlhwhoenesiubtineetigwoaabnaedirrrneyheaoastuiedsscssksrdetbwoctceiodtetnctwneofnttselrmeearaeeasnialwhshnirabdypswnhebadshhdmneethshrhafmowwhpencgreritouatmeswhpdraebntadawoiilheotcrgewdbsnhaweoititrnlueabegettbwdjrdrvlouaatbscerrnnebgporikastlobohtglhoimierrethyemhwsneohataaahenitaoidoaoescepaisfodnobesaunemaosaeeaorctdeaiteeeiuhgldoiiyonyejehsohieedriilashbetomtrbiyeintowcraaxendthohuhopeteierdinaeinaeeeledlrsauminlaaeedebgneedseteiaisenulagnatepeodtehsoosideslodistaihkniorgasotdsepnrkctgognuwydafenlrepsowoimsdoauygeloisisahettdhtdeneyortboaaaeefimhccstihurdfeurtygjoemreetwniiosachahtaehndtostrlfotbsfhyswhatlnbifehnohdortieeibatrsaeyoeetgeanelbhkwttpawmehnmdhtntureoleobechrdianarnojangrhruawdeeyitptrkvnhatulpgngikeisnegedafenlewtaotsfhfhsthrfcwsmomrrisarelshaetswlilhrdihchnecntglaattrnngfilaaeveobhneoerorrisiuwbhenniltafobudturieatbeatdooetvniwardutoapdeoofnetmngndahvrnbeaugldaunirmsdroaefeosetawuucokaiwrahofhdtbawhcemhnefvshosdgssismareamtttaotlgmeahlaltoifctenmraachlsirvhyrlassteeemnseterfaitheectetafaraepnoywhttkelsklimdfetuslaceemneealeoehmihgnhkasechueetrestnhbheofedkdlaanreieigrlwhsoorodtoalahyotneehaheuimeueoyhidtdtvhterq']"
      ]
     },
     "execution_count": 9,
     "metadata": {},
     "output_type": "execute_result"
    }
   ],
   "source": [
    "key_length = 5\n",
    "\n",
    "l = []\n",
    "\n",
    "for start in range(key_length):\n",
    "    curr = ''\n",
    "    for i in range(start, cipher_length, key_length):\n",
    "        curr += cipher_text[i]\n",
    "    l.append(curr)\n",
    "\n",
    "l"
   ]
  },
  {
   "cell_type": "code",
   "execution_count": 10,
   "metadata": {},
   "outputs": [],
   "source": [
    "char_freqs = []\n",
    "\n",
    "def get_freqs(cipher_text):\n",
    "    N = len(cipher_text)\n",
    "    freq = {}\n",
    "    skip = 0\n",
    "    for i in range(len(cipher_text)):\n",
    "        if skip:\n",
    "            skip=0\n",
    "            continue\n",
    "        if cipher_text[i]=='\\\\':\n",
    "            if cipher_text[i+1]=='n' or cipher_text[i+1]=='t':\n",
    "                skip=1\n",
    "                continue\n",
    "        c = cipher_text[i]\n",
    "        if c not in freq:\n",
    "            freq[c]=0\n",
    "        freq[c]+=1\n",
    "    for i in freq:\n",
    "        freq[i]=round(freq[i] / N*100, 2)\n",
    "\n",
    "    return freq\n",
    "\n",
    "for currstr in l:\n",
    "    currfreq = get_freqs(currstr)\n",
    "    xx = [[currfreq[k], k] for k in currfreq]\n",
    "    xx.sort(reverse=True)\n",
    "    char_freqs.append(pd.DataFrame(xx))"
   ]
  },
  {
   "cell_type": "code",
   "execution_count": 11,
   "metadata": {},
   "outputs": [
    {
     "data": {
      "text/plain": [
       "[        0  1\n",
       " 0   13.05  m\n",
       " 1    9.26  b\n",
       " 2    8.81  i\n",
       " 3    7.75  p\n",
       " 4    6.47  w\n",
       " 5    6.36  v\n",
       " 6    5.97  q\n",
       " 7    5.91  l\n",
       " 8    5.02  z\n",
       " 9    4.85  a\n",
       " 10   4.18  t\n",
       " 11   3.12  j\n",
       " 12   2.84  u\n",
       " 13   2.79  e\n",
       " 14   2.51  c\n",
       " 15   2.06  k\n",
       " 16   1.78  x\n",
       " 17   1.73  o\n",
       " 18   1.56  n\n",
       " 19   1.45  g\n",
       " 20   1.28  s\n",
       " 21   0.78  d\n",
       " 22   0.22  f\n",
       " 23   0.17  r\n",
       " 24   0.06  y,\n",
       "         0  1\n",
       " 0   12.83  w\n",
       " 1    9.76  l\n",
       " 2    9.20  s\n",
       " 3    7.19  g\n",
       " 4    6.75  z\n",
       " 5    6.41  j\n",
       " 6    5.47  v\n",
       " 7    5.13  f\n",
       " 8    5.13  a\n",
       " 9    5.02  k\n",
       " 10   4.02  d\n",
       " 11   3.12  t\n",
       " 12   2.51  m\n",
       " 13   2.45  u\n",
       " 14   2.40  e\n",
       " 15   2.29  o\n",
       " 16   2.23  y\n",
       " 17   2.23  x\n",
       " 18   1.90  q\n",
       " 19   1.45  c\n",
       " 20   1.12  h\n",
       " 21   1.06  n\n",
       " 22   0.17  b\n",
       " 23   0.11  p\n",
       " 24   0.06  i,\n",
       "         0  1\n",
       " 0   13.27  y\n",
       " 1    9.37  u\n",
       " 2    8.20  b\n",
       " 3    8.09  i\n",
       " 4    7.70  n\n",
       " 5    5.86  h\n",
       " 6    5.74  m\n",
       " 7    5.69  l\n",
       " 8    5.30  c\n",
       " 9    4.96  f\n",
       " 10   4.57  x\n",
       " 11   2.84  w\n",
       " 12   2.57  z\n",
       " 13   2.57  v\n",
       " 14   2.57  o\n",
       " 15   2.18  q\n",
       " 16   1.84  a\n",
       " 17   1.39  s\n",
       " 18   1.39  e\n",
       " 19   1.34  g\n",
       " 20   1.23  j\n",
       " 21   0.95  p\n",
       " 22   0.22  r\n",
       " 23   0.11  d\n",
       " 24   0.06  k,\n",
       "         0  1\n",
       " 0   13.50  l\n",
       " 1    8.37  h\n",
       " 2    8.04  a\n",
       " 3    7.70  y\n",
       " 4    7.25  v\n",
       " 5    6.64  p\n",
       " 6    6.47  o\n",
       " 7    5.97  u\n",
       " 8    5.64  z\n",
       " 9    5.13  k\n",
       " 10   3.91  s\n",
       " 11   2.90  i\n",
       " 12   2.85  b\n",
       " 13   2.51  t\n",
       " 14   2.29  m\n",
       " 15   2.23  j\n",
       " 16   1.90  d\n",
       " 17   1.45  n\n",
       " 18   1.40  f\n",
       " 19   1.28  w\n",
       " 20   1.23  r\n",
       " 21   1.12  c\n",
       " 22   0.11  g\n",
       " 23   0.06  x\n",
       " 24   0.06  q,\n",
       "         0  1\n",
       " 0   13.73  e\n",
       " 1    8.98  a\n",
       " 2    8.20  t\n",
       " 3    7.25  o\n",
       " 4    6.92  h\n",
       " 5    6.47  i\n",
       " 6    6.36  s\n",
       " 7    6.31  n\n",
       " 8    5.52  r\n",
       " 9    4.91  d\n",
       " 10   3.74  l\n",
       " 11   2.73  u\n",
       " 12   2.62  w\n",
       " 13   2.62  m\n",
       " 14   2.40  b\n",
       " 15   2.29  c\n",
       " 16   2.12  g\n",
       " 17   1.90  f\n",
       " 18   1.51  y\n",
       " 19   1.12  p\n",
       " 20   0.95  v\n",
       " 21   0.89  k\n",
       " 22   0.28  j\n",
       " 23   0.11  q\n",
       " 24   0.06  x]"
      ]
     },
     "execution_count": 11,
     "metadata": {},
     "output_type": "execute_result"
    }
   ],
   "source": [
    "char_freqs"
   ]
  },
  {
   "cell_type": "code",
   "execution_count": 16,
   "metadata": {},
   "outputs": [],
   "source": [
    "new_l = []\n",
    "shifts = [18, 8, 6, 19, 0]      # obtained by observing the shifts of maxFreq letter from 'e'\n",
    "for i in range(key_length):\n",
    "    new_l.append(shift_chars(l[i], shifts[i]))"
   ]
  },
  {
   "cell_type": "code",
   "execution_count": 21,
   "metadata": {},
   "outputs": [
    {
     "data": {
      "text/plain": [
       "'onceuponatimeinadistantpersiancitylivedtwobrotherscalledalibabaandkasimalibabawasterriblypoorandhelivedwithhiswifeinamudhuthepickedupsticksinthewoodsandsoldtheminbundlesatthemarketkasimhoweverhadarichwifeandhelivedinabigfinehouseandsoldcarpetshebecamericherthaneveronedayasalibabawasgatheringsticksinawoodsomewayfromthecityheheardabandofhorsemengalloptowardshimscaredthathemightbeintroubleforstealingwoodhescrambledupatreeandhidamongstthefoliagesecondsbeforethemenarmedtotheteethrodeunderneaththeywererobbersnodoubtaboutthatalicouldtellbytheirevillooksroughbeardsandbadlanguagebutwhatmadeitperfectlycleartohimwasthebootytheyunloadedfromtheirhorsesobviouslyplunderedinaraidtheirleaderwasagrimwickedlookingmanfollowedbyhismenhestrodetowardsarockymountainnearbythrowingwidehisarmssuddenlyshoutedopensesamealibabacouldhardlybelievehiseyesforattherobberswordstherockfaceswungopentobecometheentrancetoadeepdarkcavetherobberstroopedinsidedraggingtheirsacksalibabawasstruckdumbbythisamazingsightandhecrouchedinhistreewithoutmovingamusclehecouldcaheartherobbersvoicesechointhecavethenouttheycameagainopeninghisarmstheleaderexclaimedloudlyclosesesameandtherockswungtightlyshutastheyleaptontotheirhorsesandgallopedawaytremblingwithfearalibabaclimbeddownthetreehehadjusthadthebiggestshockofhislifehardlyawareofwhathewasdoinghemutteredopensesamebutthemountainstoodstillalibabasaidthewordsagainbutthistimeheshoutedthemsuddenlytherockbegantomovealibabalitaflareandenteredthecaveinfrontofhisbulgingeyeslayvastpilesoftreasurepotsofsilvergoldpreciousvasesweaponsstuddedwithrubbiesandemeraldsdiademscarvedplatesandcarpetsallheapedtogetherthepoverytstrikenstickgathererrubbedhiseyesindisbeliefhishandwasshakinglikealeafashepickedupagoldcoinitsrealhesaidinawejabberingwithexcitementandstunnedatthesightofsuchuntoldwealthhetoldhimselfilltakesomecoinsnobodywilleverknowandhefilledfourbagsfullthesecondhereachedhomealibabalockedthedoorandemptiedthesacksinfrontofhisastoundedwifecountthemheorderedhertriumphantlybeforetellingherwhathadhappenedbuttherewerefartoomanycoinsforthesepoorpeopletocountwecantcountthemallruntomybrothershouseandaskhimforacornmeasurewellusethatsaidalibabawhenkasimswifeheardthisstrangerequesthercuriositywasarousedwonderwhattheywanttomeasureitcantbecorntheyrefartoopoorandshequicklybrushedatouchoftaracrossthebottomofthemeasuringpailandwhenshegotthepailbacktherewassomethingstucktoitasthecleverwomanhadknowntherewouldbeitwasagoldcoinagoldcoinwheredidthatcomefromtheyrethepoorestofthepoorandsherushedofftotellherhusbandkasimwasmostannoyedhowdaremybrotherhavegoldcoinswithouttellingmeaboutithesnappedandoffhemarchedtoaskalibabaforanexplanationalibabainnocentlytoldkasimhisstrangestorybutaskedhimtokeepitasecretofcoursekasimpromisedbuthequicklytoldhiswifeaboutitandorderedtheservantstosaddletensturdymulesfornextmorningillbericherthaneverincrediblyrichhesaidtohimselfashewenttobedbuthedidntsleepawinkforthinkingofthetreasureitwasstilldarkwhenkasimandhismuletrainsetoutwhenhereachedthemountainbeyondtheforesthepronouncedthemagicwordsandenteredthecavewithabeatinghearthecrammedasmuchashecouldintothesaddlebagsbutkasimsgreedledtohisdownfallforthebagsweresostuffedwithtreasurethattheybecametooheavytoliftkasimrealisedwithasinkingfeelingthathewouldhavetoleavebehindsomeofhispreciousburdenbutittookhimalongtimeandhewasstillpickingoverwhattokeepandwhattoabandonwhenasfatewouldhaveittherobberbandreturnedwhentheysawthattheentrancetothecavewasopentheyrushedinsidewithdrawnswordsunluckykasimwasquicklydiscoveredandkilledandtherobbersweresofiercethattheychoppedhlmintofourandleftthepiecesattheentrancethatwillwarnanyothersnooperoftheendthatawaitshimshoutedtheleaderkasimswifewaitedinvainfortwodaysthenindesperationsherantoalibabaandtoldhimwhereherhusbandhadgoneaskingforhelpalibabawasdismayedhepromisedhewouldneverhoweveralibabawasfondofhisbrothersohesaddledamuleandrodetothemountainwhenhesawtohishorrortheremainsofkasimhebrokedownandweptthenhepluckedupenoughcouragetowraptheminarugwhichhetiedtothemulesbackbutkasimswifewhenshesawwhathadhappenedtoherhusbanddiedofabrokenheartalibabaandhisfamilywenttoliveinkasimspalacetherehemetmorgantinaacleveryoungslavegirlwhohadlongbeenaservantinthepalaceitwasshewhotoldalibabathathisbrothersremainscouldbeputtogetheragainbeforebeingburiedmustaphathecobblerwoulddothejobforagoodrewardihavetoblindfoldyoumorgantinatoldthecobblersoyoucantseewhereyouregoingthentherewontbeanygossipthecobblerdidhisworkwellandwasledstillblindfoldedbacktohisshopwithabagofgoldforhistroubleinthemeantimewhentherobberleadersawthatthebodyhadbeenremovedheknewthatsomeoneelsehadfoundthetreasuretroveangryandalarmedheorderedoneofhismentosneakintothecityandfindoutwhathecouldwellbysheerchancethespyhadaholeinthesoleofhisbootandhewentintothecbobblersmustaphawasburstingtotellsomeoneallabouthisluckandtheygavemeabagofgoldforstitchingthebodytogetheragainifyoutakemetotheplaceillgiveyouanotherbagofgoldsaidtherobberimmediatelytherobbernearlydancedforjoythenhisheartsankhowwashetofindthehousehehadneverseenillblindfoldyouagainsaidtherobberthenyoutakeyourtimeandtrytorememberwhichwayyouwentasitturnedouttherobberwasluckyformustaphahadanexxcelentsenseofdirectionwhatsmorehehadcountedhisfootstepssohecountedthemahainfivehundredandtenfivehundredandelevenfivehundredandtwelveherethecobblerwrenchedtheclothfromhiseyesandfoundhimselfinfrontofalibabaspalacetherobberhandedoverthebagofgoldandunseendrewaredcrossonthedoorthenhehurriedawaytogivehisleaderthenewsduskfellandasmorgantinawasabouttoenterthepalaceshenoticedthestrangemarkhersuspicionsarousedshequicklydrewredcrossonalltheotherdoorsinthestreetatdeadofnightthewickedbandarrivedtotakerevengebutatthesightofalltheredcrossestheystoppedintheirtrackswhichwastherightdoormorgantinahadunknowinglysavedhermasterfromdeathandtheleaderofthegangputhismantotheswordforgivinghimafalseleadyoufoolscantyoudoanythingproperlyillgotothecitymyselfdisguisedasamerchanthewenttomustaphadelightedattheideaofearningmoremoneythecobblertooktherobbertoalibabaspalaceandthewickedmanfixedinhismindtheexactplaceandstreetbackinhishideoutheorderedtwoofhismentobuyacartandthirtyninegiantjarsnowafterthemurderofthemessengertherewereonlythirtyeightrobbersleftandeachonehidinajarthelastjarwasfiledwithoilandloadedwiththeothersontothecartpulledbyfourhorsestherobberssetoffforthecityitwaslatewhentheyreachedthepalaceandalibabahimselfcaameoutwhatcanidaforyouhesaidimanoilmerchantrepliedtheleaderandimustbeatmarkettomorrowitslateanwerewearycanyougiveusabedforthenightpleasedatbeingabletohelpalibabawhohadknownwhatitmeanttobepoorwarmlywelcomedthemerchantandhismenandhadthecarttakenintothecourtyardafteragoodmealtheleaderofthebandwentbacktothecourtyardhesaidhewasgoingtomakesurethannoneofthejarshadbeendamagedduringthejourneybutinfacthewarnedhismentobereadyatasignaltoleapfromthejarsandkilleveryoneinthepalaceasthehouseholdsleptmorgantinalingeredinthekitchentotidyupsuddenlyshethoughtshewouldhaveasipofthemerchantsoiltoseeifitwasastastyasherownbutwhensheliftedthelidfromthefirstjartoherhorroragruffvoicegrowledisittimenonotyetmutteredmorgantinahastilyateveryjarexactlythesamethinghappenedbutthelastonewasfilledwithoilwhichshedraggedbackintothekitchenshethentippedthecontentsintoahugecauldronandheateditoverthefirethentakingajugfulofboilingoilmorgantinapoureditovertheheadofarobbershethenpouredtheoilovereveryoneoftherobbersandinthiswaywipedoutthewholebandthenshehidinacorneralittlelatertheleaderoftherobberbandhurriedintothecourtyardtogivethesignaltoattackbutwhenheraisedthelidshefoundtohisterrorthateveryoneofhismenwasdeadhorrifiedhecouldnotfathornwhattraphehadfallenintotherobberfledintothenightnextmorningmorgantinatoldalibabaofheradventureillneverbeabletothankyouenoughexclaimedalibabayouareanamazinggirlfromthissecondyouarenolongeraslavebutafreememberofthishouseholdthedeadmenwereburiedundercoverofdarknessandalibabawassurehehadnothingmoretofeartheleaderoftherobberbandhoweverhadrecoveredfromhisshockandwaseagerforrevengesoheshavedoffhisbeardchangedhislooksanddisguisedhimselfasacarpetselleratthemarkethemettabitalibabassonwhotookallklngtohimsoonerorlaterthissillychapwillinvitemehomesaidthefalsecarpetsellerthenicanmurderthemallthatmerchanthassoldyousomefinecarpetsverycheaplyremarkedalibabatohissonaskhimtocometothehousewhenmorgantinasawtheguestshefeltsurehisfacewasfamiliarthensherememberedthecarpetsellerandtheleaderofthebandwereoneandthesamepersonwithoutsayingawordshewentbacktothekitchenbutlatersheaskedallbabaifshemightdancefortheguestifyoulikesaidalibabawhencoffeewasservedmorgantinaenteredindaswirloffveilstothebeatofhertambourineinherrighthandsheheldaknifeasshestoppeddancingshethrusttheknifeintothecarpetsellershearthesoneoftherobbersshecriediknowhisfacehewouldhavekilledusallmorgantinahadoncemoresavedtheirlivestabithuggedherlittleknowingthathisjoywouldsoonturntoloveandthattheywouldmarryalibabawastheonlypersonleftwhoknewthesecretofthetreasurehemadewiseuseofitformanyyearsbuthenevertoldanyonethemagicwordsthatwouldopenthecaveofthefortythievesirakwvqfcn'"
      ]
     },
     "execution_count": 21,
     "metadata": {},
     "output_type": "execute_result"
    }
   ],
   "source": [
    "plain_text = ''\n",
    "for i in range(cipher_length):\n",
    "    plain_text += new_l[i%key_length][i//key_length]\n",
    "\n",
    "with open('./v_plaintext_20.txt', 'w') as f:\n",
    "    f.write(plain_text)\n",
    "\n",
    "plain_text"
   ]
  },
  {
   "cell_type": "code",
   "execution_count": 54,
   "metadata": {},
   "outputs": [
    {
     "data": {
      "text/plain": [
       "'isuha'"
      ]
     },
     "execution_count": 54,
     "metadata": {},
     "output_type": "execute_result"
    }
   ],
   "source": [
    "key = ''\n",
    "\n",
    "for i in [chr(ord('a')+(-i)%26) for i in shifts]:\n",
    "    key+=i\n",
    "\n",
    "key"
   ]
  },
  {
   "cell_type": "code",
   "execution_count": 56,
   "metadata": {},
   "outputs": [
    {
     "data": {
      "text/plain": [
       "'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'"
      ]
     },
     "execution_count": 56,
     "metadata": {},
     "output_type": "execute_result"
    }
   ],
   "source": [
    "def encode(msg, key):\n",
    "    C = ''\n",
    "    for i in range(len(msg)):\n",
    "        a = ord('a')\n",
    "        ix = ord(msg[i]) + ord(key[i % len(key)]) - a\n",
    "        if ix>ord('z'):\n",
    "            ix-=26\n",
    "        C += chr(ix)\n",
    "        # print(msg[i], key[i % len(key)], C[-1])\n",
    "    return C\n",
    "\n",
    "\n",
    "encode(plain_text, key)"
   ]
  }
 ],
 "metadata": {
  "kernelspec": {
   "display_name": "Python 3.9.1 64-bit",
   "language": "python",
   "name": "python3"
  },
  "language_info": {
   "codemirror_mode": {
    "name": "ipython",
    "version": 3
   },
   "file_extension": ".py",
   "mimetype": "text/x-python",
   "name": "python",
   "nbconvert_exporter": "python",
   "pygments_lexer": "ipython3",
   "version": "3.9.1"
  },
  "orig_nbformat": 4,
  "vscode": {
   "interpreter": {
    "hash": "c3a0e1ed7a67280133f8ade5886c8db9f663bbe0c0db84aba701ac80290ec8d2"
   }
  }
 },
 "nbformat": 4,
 "nbformat_minor": 2
}
