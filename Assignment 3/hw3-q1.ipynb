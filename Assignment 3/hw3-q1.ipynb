{
 "cells": [
  {
   "cell_type": "code",
   "execution_count": 100,
   "metadata": {},
   "outputs": [],
   "source": [
    "import secrets\n",
    "import hashlib\n",
    "from random import SystemRandom\n",
    "import matplotlib.pyplot as plt\n",
    "import math"
   ]
  },
  {
   "cell_type": "markdown",
   "metadata": {},
   "source": [
    "a) Compute the SHA256 hash of your email-id. Let it be h1"
   ]
  },
  {
   "cell_type": "code",
   "execution_count": 101,
   "metadata": {},
   "outputs": [
    {
     "name": "stdout",
     "output_type": "stream",
     "text": [
      "My email-id \t\t: maniya.1@iitj.ac.in\n",
      "Hash of my email-id \t: 56b7896996ede4ae5517e9545a7b6130d518e72a4d940542da021d3d5979663a\n"
     ]
    }
   ],
   "source": [
    "def find_hash_hex(x):\n",
    "    hash = hashlib.sha256(x.encode())\n",
    "    h = hash.hexdigest()\n",
    "    return h\n",
    "\n",
    "def find_hash_bin(x):\n",
    "    hash = hashlib.sha256(x.encode())\n",
    "    h = hash.digest()\n",
    "    return h\n",
    "\n",
    "original_email = \"maniya.1@iitj.ac.in\"\n",
    "h1 = find_hash_hex(original_email)\n",
    "print(f\"My email-id \\t\\t: {original_email}\\nHash of my email-id \\t: {h1}\")\n"
   ]
  },
  {
   "cell_type": "markdown",
   "metadata": {},
   "source": [
    "b) Find another IIT Jodhpur email-id (i.e. the format of the id should be x@iitj.ac.in where you need to find a suitable value for the variable x) which has the hash value h2, such that h1 and h2 match in the first 16 bits.\n"
   ]
  },
  {
   "cell_type": "code",
   "execution_count": 113,
   "metadata": {},
   "outputs": [
    {
     "name": "stdout",
     "output_type": "stream",
     "text": [
      "My email-id \t\t\t: maniya.1@iitj.ac.in\n",
      "Hash of my email-id \t\t: 56b7896996ede4ae5517e9545a7b6130d518e72a4d940542da021d3d5979663a\n",
      "\n",
      "x@iitj.ac.in email-id \t\t: gxovmmrap.35@iitj.ac.in\n",
      "Hash of x@iitj.ac.in found \t: 56b72aac58fcb70840b8fa60977afa7cd545b35786640512208f5f9303bf4423\n",
      "\n",
      "Number of attempts made \t: 22419\n"
     ]
    },
    {
     "data": {
      "text/plain": [
       "22419"
      ]
     },
     "execution_count": 113,
     "metadata": {},
     "output_type": "execute_result"
    }
   ],
   "source": [
    "def generate_random_iitj_email():\n",
    "    cryptogen = SystemRandom()\n",
    "    N = cryptogen.randint(3, 10)\n",
    "    y = ''\n",
    "    for j in range(N):\n",
    "        y += ''.join(secrets.choice(string.ascii_lowercase))\n",
    "    y += '.'\n",
    "    M = cryptogen.randint(1, 99)\n",
    "    y += str(M)\n",
    "    y += '@iitj.ac.in'\n",
    "    return y\n",
    "\n",
    "\n",
    "def find_match_with_given_hash(h1, flag=False):\n",
    "    attempts = 0\n",
    "    while(True):\n",
    "        x = generate_random_iitj_email()\n",
    "        attempts += 1\n",
    "        h2 = find_hash_hex(x)\n",
    "        if(h1[0] == h2[0] and h1[1] == h2[1] and h1[2] == h2[2] and h1[3] == h2[3]):\n",
    "            if flag:\n",
    "                print(f\"My email-id \\t\\t\\t: {original_email}\")\n",
    "                print(f\"Hash of my email-id \\t\\t: {h1}\\n\")\n",
    "                print(f\"x@iitj.ac.in email-id \\t\\t: {x}\")\n",
    "                print(f\"Hash of x@iitj.ac.in found \\t: {h2}\\n\")\n",
    "            break\n",
    "    if flag:\n",
    "        print(f\"Number of attempts made \\t: {attempts}\")\n",
    "    return attempts\n",
    "\n",
    "\n",
    "find_match_with_given_hash(h1, True)\n"
   ]
  },
  {
   "cell_type": "markdown",
   "metadata": {},
   "source": [
    "c) Repeat the above 10 times and store the number of calls you made to the SHA256 hashing algorithm in each of these trials. If the average number of calls to SHA256 is t then report the value of log2(t)."
   ]
  },
  {
   "cell_type": "code",
   "execution_count": 117,
   "metadata": {},
   "outputs": [
    {
     "name": "stdout",
     "output_type": "stream",
     "text": [
      "Average no. of calls made \t: 48302.6\n",
      "log2(Average no. of calls) \t: 15.5598\n"
     ]
    }
   ],
   "source": [
    "all_attempts = []\n",
    "\n",
    "for i in range(10):\n",
    "    cryptogen = SystemRandom()\n",
    "    attempts = find_match_with_given_hash(h1)\n",
    "    all_attempts.append(attempts)\n",
    "\n",
    "avg_attempts = sum(all_attempts)/10\n",
    "\n",
    "print(f\"Average no. of calls made \\t: {avg_attempts}\")\n",
    "print(f\"log2(Average no. of calls) \\t: {math.log2(avg_attempts):.4f}\")"
   ]
  },
  {
   "cell_type": "code",
   "execution_count": 125,
   "metadata": {},
   "outputs": [
    {
     "data": {
      "text/plain": [
       "[]"
      ]
     },
     "execution_count": 125,
     "metadata": {},
     "output_type": "execute_result"
    },
    {
     "data": {
      "image/png": "[encoded data removed]",
      "text/plain": [
       "<Figure size 576x432 with 1 Axes>"
      ]
     },
     "metadata": {
      "needs_background": "light"
     },
     "output_type": "display_data"
    }
   ],
   "source": [
    "log2attempts = [math.log2(x) for x in all_attempts]\n",
    "plt.figure(figsize=(8, 6))\n",
    "plt.title('log2 (Calls for SHA256)\\n', fontsize=15)\n",
    "plt.plot([1,10], [math.log2(avg_attempts)]*2, label='log2(average no. calls)')\n",
    "plt.plot(range(1,11), log2attempts)\n",
    "plt.scatter(range(1,11), log2attempts, s=50, c='green')\n",
    "plt.xlabel('iteration no.')\n",
    "plt.ylabel('log2(no. of calls to SHA256)')\n",
    "plt.ylim(min(log2attempts)-3, max(log2attempts)+1)\n",
    "plt.legend()\n",
    "plt.plot()"
   ]
  },
  {
   "cell_type": "markdown",
   "metadata": {},
   "source": [
    "d) Comment on the value you reported above. Why are you getting this specific value?"
   ]
  },
  {
   "cell_type": "markdown",
   "metadata": {},
   "source": [
    "Maximum Cost for finding a hash that matches in the first 16 bits with the hash of original mail should be O(2^16) as probability that their 16 bits match would be 2^16.\n",
    "Also, average cost for finding a hash which matches in the first 16 bits with the hash of original mail should be O((2^16)/2) = O(2^15) and the corresponding probability would be 2^(-15) .\n",
    "\n",
    "Hence 1 out of 2^15  calls would give a hash with the ‘first 16 bits match’.\n",
    "\n",
    "Result we get in (c) is 2^(15.29) calls which is considerably near to 2^15."
   ]
  },
  {
   "cell_type": "markdown",
   "metadata": {},
   "source": [
    "e) Find two email-ids of the form x@iitj.ac.in and y@iitj.c.in such that their hash values match in the first 16 bits."
   ]
  },
  {
   "cell_type": "code",
   "execution_count": 126,
   "metadata": {},
   "outputs": [
    {
     "name": "stdout",
     "output_type": "stream",
     "text": [
      "x@iitj.ac.in email-id \t: trpzivo.59@iitj.ac.in\n",
      "Hash of x@iitj.ac.in \t: f60893870f2ce9df0617da482d79e09c807dec5f15950b74e30671a8dc15c0eb\n",
      "\n",
      "y@iitj.ac.in email-id \t: nlylzrgsmu.21@iitj.ac.in\n",
      "Hash of y@iitj.ac.in \t: f6084d83b9131cb11e33f4db831ffe947a73a2f59c001cba0b1fbe28012d7542\n",
      "\n",
      "Attempts \t\t: 409\n"
     ]
    },
    {
     "data": {
      "text/plain": [
       "409"
      ]
     },
     "execution_count": 126,
     "metadata": {},
     "output_type": "execute_result"
    }
   ],
   "source": [
    "def collision_resistance(flag = False):\n",
    "    hash_to_email = {}\n",
    "    attempts = 0\n",
    "    while(True):\n",
    "        y = generate_random_iitj_email()\n",
    "        h1 = find_hash_hex(y)\n",
    "        s = str(h1[0]) + str(h1[1]) + str(h1[2]) + str(h1[3])\n",
    "        if(s not in hash_to_email):\n",
    "            hash_to_email[s] = y\n",
    "        else:\n",
    "            if flag:\n",
    "                print(f\"x@iitj.ac.in email-id \\t: {hash_to_email[s]}\")\n",
    "                print(f\"Hash of x@iitj.ac.in \\t: {find_hash_hex(hash_to_email[s])}\\n\")\n",
    "                print(f\"y@iitj.ac.in email-id \\t: {y}\")\n",
    "                print(f\"Hash of y@iitj.ac.in \\t: {h1}\\n\")\n",
    "                print(f\"Attempts \\t\\t: {attempts}\")\n",
    "            break\n",
    "        attempts += 1\n",
    "    return attempts\n",
    "\n",
    "\n",
    "collision_resistance(True)\n"
   ]
  },
  {
   "cell_type": "markdown",
   "metadata": {},
   "source": [
    "f) Repeat the above 10 times, and report the average number of trials as in part (c)"
   ]
  },
  {
   "cell_type": "code",
   "execution_count": 127,
   "metadata": {},
   "outputs": [
    {
     "name": "stdout",
     "output_type": "stream",
     "text": [
      "Average no. of calls made \t: 306.1\n",
      "log2(Average no. of calls) \t: 8.2579\n"
     ]
    }
   ],
   "source": [
    "all_attempts = []\n",
    "\n",
    "for i in range(10):\n",
    "    attempts = collision_resistance()\n",
    "    all_attempts += [attempts]\n",
    "    \n",
    "print(f\"Average no. of calls made \\t: {sum(all_attempts)/10}\")\n",
    "print(f\"log2(Average no. of calls) \\t: {math.log2(sum(all_attempts)/10):.4f}\")"
   ]
  },
  {
   "cell_type": "code",
   "execution_count": 132,
   "metadata": {},
   "outputs": [
    {
     "data": {
      "text/plain": [
       "[]"
      ]
     },
     "execution_count": 132,
     "metadata": {},
     "output_type": "execute_result"
    },
    {
     "data": {
      "image/png": "[encoded data removed]",
      "text/plain": [
       "<Figure size 576x432 with 1 Axes>"
      ]
     },
     "metadata": {
      "needs_background": "light"
     },
     "output_type": "display_data"
    }
   ],
   "source": [
    "log2attempts = [math.log2(x) for x in all_attempts]\n",
    "plt.figure(figsize=(8, 6))\n",
    "plt.title('log2 (Calls for SHA256)\\n', fontsize=15)\n",
    "plt.plot([1,10], [math.log2(sum(all_attempts)/10)]*2, label='log2(average no. calls)')\n",
    "plt.plot(range(1,11), log2attempts)\n",
    "plt.scatter(range(1,11), log2attempts, s=50, c='green')\n",
    "plt.xlabel('iteration no.')\n",
    "plt.ylabel('log2(no. of calls to SHA256)')\n",
    "plt.ylim(min(log2attempts)-2, max(log2attempts)+0.2)\n",
    "plt.legend()\n",
    "plt.plot()"
   ]
  },
  {
   "cell_type": "markdown",
   "metadata": {},
   "source": [
    "g) Comment on the value you reported above. Why are you getting this value? Why is it different from the one in part (c)?"
   ]
  },
  {
   "cell_type": "markdown",
   "metadata": {},
   "source": [
    "Here, √(216) would be equal to 28 . Thus, value of t should come 28 and value of log2t should come to 8, which matches with the output generated by code in part (f)."
   ]
  }
 ],
 "metadata": {
  "kernelspec": {
   "display_name": "Python 3.9.1 64-bit",
   "language": "python",
   "name": "python3"
  },
  "language_info": {
   "codemirror_mode": {
    "name": "ipython",
    "version": 3
   },
   "file_extension": ".py",
   "mimetype": "text/x-python",
   "name": "python",
   "nbconvert_exporter": "python",
   "pygments_lexer": "ipython3",
   "version": "3.9.1"
  },
  "orig_nbformat": 4,
  "vscode": {
   "interpreter": {
    "hash": "c3a0e1ed7a67280133f8ade5886c8db9f663bbe0c0db84aba701ac80290ec8d2"
   }
  }
 },
 "nbformat": 4,
 "nbformat_minor": 2
}
