{
 "cells": [
  {
   "cell_type": "markdown",
   "metadata": {},
   "source": [
    "## **HW3 Part 2**\n",
    "\n",
    "Yash Maniya (B20CS033)"
   ]
  },
  {
   "cell_type": "code",
   "execution_count": 2,
   "metadata": {},
   "outputs": [],
   "source": [
    "import random\n",
    "import hashlib\n",
    "from Crypto.Util.number import getPrime"
   ]
  },
  {
   "cell_type": "markdown",
   "metadata": {},
   "source": [
    "(a) An RSA-PKCS#1 encryption implementation which can be given any arbitrary message\n",
    "m to encrypt and produce the ciphertext c. You will call this to encrypt a message\n",
    "created by you, which should include your roll number. Rest of the message can be\n",
    "anything but at least some part of the message should be randomly chosen every time\n",
    "this function is called. (Your code should NOT be tailored to work on a specific message\n",
    "only)."
   ]
  },
  {
   "cell_type": "code",
   "execution_count": 40,
   "metadata": {},
   "outputs": [],
   "source": [
    "def pkcs1_pad(m, n):\n",
    "    m = hashlib.sha256(m.encode()).digest()\n",
    "    \n",
    "    # Calculate the size of the modulus in bytes\n",
    "    k = (n.bit_length() + 7) // 8\n",
    "    \n",
    "    # Maximum size of the padding\n",
    "    t = k - len(m) - 3\n",
    "    \n",
    "    # Generate non-zero random padding\n",
    "    ps = bytearray(random.getrandbits(8) for i in range(t))\n",
    "    while 0 in ps:\n",
    "        ps[ps.index(0)] = random.getrandbits(8)\n",
    "\n",
    "    # Construct the padded message\n",
    "    pm = bytearray([0x00, 0x02]) + ps + bytearray([0x00]) + m\n",
    "    \n",
    "    return pm\n",
    "\n",
    "def rsa_encrypt(m, e, n, flag=False):\n",
    "    pm = pkcs1_pad(m, n)\n",
    "    if flag: \n",
    "        print(f'Padded Message \\t\\t: {pm}\\n')\n",
    "    m_int = int.from_bytes(pm, 'big')\n",
    "    c_int = pow(m_int, e, n)\n",
    "    c = c_int.to_bytes((c_int.bit_length() + 7) // 8, 'big')\n",
    "    \n",
    "    return c\n",
    "    "
   ]
  },
  {
   "cell_type": "code",
   "execution_count": 47,
   "metadata": {},
   "outputs": [
    {
     "name": "stdout",
     "output_type": "stream",
     "text": [
      "Message \t\t: Is you roll number B20CS033 ?\n",
      "\n",
      "Padded Message \t\t: bytearray(b\"\\x00\\x02\\x0b\\x8dW\\xc4\\xf8\\x07i\\xc5\\x8f\\xa9\\x8c\\x1b\\x0be\\x05\\xac\\n3\\'\\xf6\\xa8\\xcb\\xf6j\\xc6H\\xb5\\x84\\xba5A\\xbd\\x86F\\xea\\xb4oi\\xfb%\\xde\\xa2\\x07\\xda\\x01\\xe2O\\x88\\x0b\\xed4\\n\\xe7%\\xa2D\\xd0\\x8dHi\\xbe\\xc6\\xec^\\xe1t\\xb6\\xa3}\\xed\\x94\\x19\\xba\\xd6i\\x1c\\x15\\x9c\\x94T\\x98\\xa4v\\x8e<C\\x93R[\\xf4f{\\xc4\\x007\\xc7Wf\\x90|\\xc4\\x98N\\x80\\xfc\\xdax\\x8eK\\xfd\\x84\\xc0\\xcen\\xfaO\\x15@ \\x87\\xa9\\xcf\\x14s\\xaa&\")\n",
      "\n",
      "Ciphertext \t: b'\\x08\\x86\\xdd_\\xa9\\xd7+\\xf9\\x07\\x89\\x84\\xa4\\xbf\\x83\\x0fqT\\xae\\x8c\\xe7\\xf9a\\xab\\x85\\xd3}\\xd5\\xfep\\x00w\\xb1\\xdb\\x00\\xf7\\xbdC\\xf1\\xab>\\xd3,\\x13\\x97\\xad\\xder\\x07\\x99\\xd6\\xdeU7\\xc8\\x9fO\\xe6^\\x14\\x05\\xbe#\\xb4t\\xbax\\xfc3\\xed\\x9eIW\\xe02J\\x15\\x93;id\\t\\x7f\\xc6\\x86\\xc8\\xde\\xc2\\xad\\xfc\\x95\\xc3\\x99@-\\x94\\xa7\\x82\\x88\\xf6f#\\xd0\\xf3\\xad\\x1d\\x84$\\xad\\xb6pW\\xfe0\\xa8\\x7f\\xb5j\\xfe\\xdf\\x19`\\x81\\\\B\\xfcU\\xb40'\n"
     ]
    }
   ],
   "source": [
    "roll_number = \"B20CS033\"\n",
    "m = f\"Is you roll number {roll_number} ?\"\n",
    "e = 65537\n",
    "n = getPrime(1024)\n",
    "\n",
    "print(f'Message \\t\\t: {m}\\n')\n",
    "\n",
    "ciphertext = rsa_encrypt(m, e, n, True)\n",
    "\n",
    "print(f'Ciphertext \\t: {ciphertext}')\n"
   ]
  },
  {
   "cell_type": "markdown",
   "metadata": {},
   "source": [
    "(b) A decryption oracle which returns a single bit answer informing if the decrypted message\n",
    "is PKCS#1 conforming."
   ]
  },
  {
   "cell_type": "code",
   "execution_count": 38,
   "metadata": {},
   "outputs": [],
   "source": [
    "def oracle(pm):\n",
    "    # Verify that the padding format is correct\n",
    "    if pm[0] != 0x00 or pm[1] != 0x02:\n",
    "        return False\n",
    "    \n",
    "    # Find the end of the padding\n",
    "    i = pm.find(0x00, 2)\n",
    "    if i == -1:\n",
    "        return False\n",
    "    \n",
    "    # Verify that the padding is non-zero and has the correct size\n",
    "    ps = pm[2:i]\n",
    "    if len(ps) < 8:\n",
    "        return False\n",
    "    \n",
    "    # Verify that the message is not empty\n",
    "    d = pm[i+1:]\n",
    "    if len(d) == 0:\n",
    "        return False\n",
    "    \n",
    "    # The message is PKCS#1 conforming\n",
    "    return True\n"
   ]
  },
  {
   "cell_type": "code",
   "execution_count": 39,
   "metadata": {},
   "outputs": [
    {
     "name": "stdout",
     "output_type": "stream",
     "text": [
      "Decrypted Message is PKCS#1 conforming : True\n",
      "Decrypted Message is PKCS#1 conforming : True\n",
      "Decrypted Message is PKCS#1 conforming : True\n",
      "Decrypted Message is PKCS#1 conforming : True\n",
      "Decrypted Message is PKCS#1 conforming : True\n"
     ]
    }
   ],
   "source": [
    "test_messages = [\"This is a test message with roll no. B20CS033\",\n",
    "                 \"B20CS033\",\n",
    "                 \"Hello world! B20CS033\",\n",
    "                 \"The quick brown fox jumps over the lazy dog B20CS033\",\n",
    "                 \"1234567890!@#$%^&*()_+ B20CS033\"]\n",
    "\n",
    "for msg in test_messages:\n",
    "    pm = pkcs1_pad(msg, n)\n",
    "    res = oracle(pm)\n",
    "    \n",
    "    print(f'Decrypted Message is PKCS#1 conforming : {res}')\n"
   ]
  },
  {
   "cell_type": "code",
   "execution_count": 44,
   "metadata": {},
   "outputs": [
    {
     "name": "stdout",
     "output_type": "stream",
     "text": [
      "Decrypted Message is PKCS#1 conforming : False\n"
     ]
    }
   ],
   "source": [
    "z = rsa_encrypt(test_messages[3], e, n)\n",
    "print(f'Decrypted Message is PKCS#1 conforming : {oracle(z)}')"
   ]
  },
  {
   "cell_type": "markdown",
   "metadata": {},
   "source": [
    "(c) An attack function which gets the ciphertext c and can call the decryption oracle as\n",
    "many times as needed (except on the ciphertext c)."
   ]
  },
  {
   "cell_type": "code",
   "execution_count": null,
   "metadata": {},
   "outputs": [],
   "source": []
  }
 ],
 "metadata": {
  "kernelspec": {
   "display_name": "Python 3.9.1 64-bit",
   "language": "python",
   "name": "python3"
  },
  "language_info": {
   "codemirror_mode": {
    "name": "ipython",
    "version": 3
   },
   "file_extension": ".py",
   "mimetype": "text/x-python",
   "name": "python",
   "nbconvert_exporter": "python",
   "pygments_lexer": "ipython3",
   "version": "3.9.1"
  },
  "orig_nbformat": 4,
  "vscode": {
   "interpreter": {
    "hash": "c3a0e1ed7a67280133f8ade5886c8db9f663bbe0c0db84aba701ac80290ec8d2"
   }
  }
 },
 "nbformat": 4,
 "nbformat_minor": 2
}
